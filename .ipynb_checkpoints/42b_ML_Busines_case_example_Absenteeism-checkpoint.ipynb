{
 "cells": [
  {
   "cell_type": "markdown",
   "id": "c3608329",
   "metadata": {},
   "source": [
    "# Absenteeism - Busines Case Example - cont"
   ]
  },
  {
   "cell_type": "markdown",
   "id": "ee2e49f3",
   "metadata": {},
   "source": [
    "## Create LogisticRegression"
   ]
  },
  {
   "cell_type": "markdown",
   "id": "afc4fa3a",
   "metadata": {},
   "source": [
    "### Import libraries"
   ]
  },
  {
   "cell_type": "code",
   "execution_count": 1,
   "id": "d2303aa4",
   "metadata": {},
   "outputs": [],
   "source": [
    "import pandas as pd\n",
    "import numpy as np"
   ]
  },
  {
   "cell_type": "markdown",
   "id": "35073450",
   "metadata": {},
   "source": [
    "### Load data"
   ]
  },
  {
   "cell_type": "code",
   "execution_count": 2,
   "id": "f293d8b3",
   "metadata": {},
   "outputs": [
    {
     "data": {
      "text/html": [
       "<div>\n",
       "<style scoped>\n",
       "    .dataframe tbody tr th:only-of-type {\n",
       "        vertical-align: middle;\n",
       "    }\n",
       "\n",
       "    .dataframe tbody tr th {\n",
       "        vertical-align: top;\n",
       "    }\n",
       "\n",
       "    .dataframe thead th {\n",
       "        text-align: right;\n",
       "    }\n",
       "</style>\n",
       "<table border=\"1\" class=\"dataframe\">\n",
       "  <thead>\n",
       "    <tr style=\"text-align: right;\">\n",
       "      <th></th>\n",
       "      <th>Reason_1</th>\n",
       "      <th>Reason_2</th>\n",
       "      <th>Reason_3</th>\n",
       "      <th>Reason_4</th>\n",
       "      <th>Month value</th>\n",
       "      <th>Day of the week</th>\n",
       "      <th>Transportation Expense</th>\n",
       "      <th>Distance to Work</th>\n",
       "      <th>Age</th>\n",
       "      <th>Daily Work Load Average</th>\n",
       "      <th>Body Mass Index</th>\n",
       "      <th>Education</th>\n",
       "      <th>Children</th>\n",
       "      <th>Pets</th>\n",
       "      <th>Absenteeism Time in Hours</th>\n",
       "    </tr>\n",
       "  </thead>\n",
       "  <tbody>\n",
       "    <tr>\n",
       "      <th>0</th>\n",
       "      <td>0</td>\n",
       "      <td>0</td>\n",
       "      <td>0</td>\n",
       "      <td>1</td>\n",
       "      <td>7</td>\n",
       "      <td>1</td>\n",
       "      <td>289</td>\n",
       "      <td>36</td>\n",
       "      <td>33</td>\n",
       "      <td>239.554</td>\n",
       "      <td>30</td>\n",
       "      <td>0</td>\n",
       "      <td>2</td>\n",
       "      <td>1</td>\n",
       "      <td>4</td>\n",
       "    </tr>\n",
       "    <tr>\n",
       "      <th>1</th>\n",
       "      <td>0</td>\n",
       "      <td>0</td>\n",
       "      <td>0</td>\n",
       "      <td>0</td>\n",
       "      <td>7</td>\n",
       "      <td>1</td>\n",
       "      <td>118</td>\n",
       "      <td>13</td>\n",
       "      <td>50</td>\n",
       "      <td>239.554</td>\n",
       "      <td>31</td>\n",
       "      <td>0</td>\n",
       "      <td>1</td>\n",
       "      <td>0</td>\n",
       "      <td>0</td>\n",
       "    </tr>\n",
       "    <tr>\n",
       "      <th>2</th>\n",
       "      <td>0</td>\n",
       "      <td>0</td>\n",
       "      <td>0</td>\n",
       "      <td>1</td>\n",
       "      <td>7</td>\n",
       "      <td>2</td>\n",
       "      <td>179</td>\n",
       "      <td>51</td>\n",
       "      <td>38</td>\n",
       "      <td>239.554</td>\n",
       "      <td>31</td>\n",
       "      <td>0</td>\n",
       "      <td>0</td>\n",
       "      <td>0</td>\n",
       "      <td>2</td>\n",
       "    </tr>\n",
       "    <tr>\n",
       "      <th>3</th>\n",
       "      <td>1</td>\n",
       "      <td>0</td>\n",
       "      <td>0</td>\n",
       "      <td>0</td>\n",
       "      <td>7</td>\n",
       "      <td>3</td>\n",
       "      <td>279</td>\n",
       "      <td>5</td>\n",
       "      <td>39</td>\n",
       "      <td>239.554</td>\n",
       "      <td>24</td>\n",
       "      <td>0</td>\n",
       "      <td>2</td>\n",
       "      <td>0</td>\n",
       "      <td>4</td>\n",
       "    </tr>\n",
       "    <tr>\n",
       "      <th>4</th>\n",
       "      <td>0</td>\n",
       "      <td>0</td>\n",
       "      <td>0</td>\n",
       "      <td>1</td>\n",
       "      <td>7</td>\n",
       "      <td>3</td>\n",
       "      <td>289</td>\n",
       "      <td>36</td>\n",
       "      <td>33</td>\n",
       "      <td>239.554</td>\n",
       "      <td>30</td>\n",
       "      <td>0</td>\n",
       "      <td>2</td>\n",
       "      <td>1</td>\n",
       "      <td>2</td>\n",
       "    </tr>\n",
       "  </tbody>\n",
       "</table>\n",
       "</div>"
      ],
      "text/plain": [
       "   Reason_1  Reason_2  Reason_3  Reason_4  Month value  Day of the week  \\\n",
       "0         0         0         0         1            7                1   \n",
       "1         0         0         0         0            7                1   \n",
       "2         0         0         0         1            7                2   \n",
       "3         1         0         0         0            7                3   \n",
       "4         0         0         0         1            7                3   \n",
       "\n",
       "   Transportation Expense  Distance to Work  Age  Daily Work Load Average  \\\n",
       "0                     289                36   33                  239.554   \n",
       "1                     118                13   50                  239.554   \n",
       "2                     179                51   38                  239.554   \n",
       "3                     279                 5   39                  239.554   \n",
       "4                     289                36   33                  239.554   \n",
       "\n",
       "   Body Mass Index  Education  Children  Pets  Absenteeism Time in Hours  \n",
       "0               30          0         2     1                          4  \n",
       "1               31          0         1     0                          0  \n",
       "2               31          0         0     0                          2  \n",
       "3               24          0         2     0                          4  \n",
       "4               30          0         2     1                          2  "
      ]
     },
     "execution_count": 2,
     "metadata": {},
     "output_type": "execute_result"
    }
   ],
   "source": [
    "data_preprocessed = pd.read_csv(\"Absenteeism_preprocessed.csv\")\n",
    "data_preprocessed.head()"
   ]
  },
  {
   "cell_type": "markdown",
   "id": "13224b1f",
   "metadata": {},
   "source": [
    "## Create the targets"
   ]
  },
  {
   "cell_type": "code",
   "execution_count": 3,
   "id": "4b2e3afc",
   "metadata": {},
   "outputs": [],
   "source": [
    "# We will use the logistic regression as this is a classification problem. This regression is useful when we have \n",
    "# two targets. We will consider normal absenteeism (below the median) and extensive absenteeism (above the median)."
   ]
  },
  {
   "cell_type": "code",
   "execution_count": 4,
   "id": "c83ef43f",
   "metadata": {},
   "outputs": [
    {
     "data": {
      "text/plain": [
       "3.0"
      ]
     },
     "execution_count": 4,
     "metadata": {},
     "output_type": "execute_result"
    }
   ],
   "source": [
    "data_preprocessed[\"Absenteeism Time in Hours\"].median()"
   ]
  },
  {
   "cell_type": "code",
   "execution_count": 5,
   "id": "533de573",
   "metadata": {},
   "outputs": [],
   "source": [
    "targets = np.where(data_preprocessed[\"Absenteeism Time in Hours\"] > \n",
    "                   data_preprocessed[\"Absenteeism Time in Hours\"].median(), 1, 0)"
   ]
  },
  {
   "cell_type": "code",
   "execution_count": 6,
   "id": "c4e1e12c",
   "metadata": {},
   "outputs": [
    {
     "data": {
      "text/html": [
       "<div>\n",
       "<style scoped>\n",
       "    .dataframe tbody tr th:only-of-type {\n",
       "        vertical-align: middle;\n",
       "    }\n",
       "\n",
       "    .dataframe tbody tr th {\n",
       "        vertical-align: top;\n",
       "    }\n",
       "\n",
       "    .dataframe thead th {\n",
       "        text-align: right;\n",
       "    }\n",
       "</style>\n",
       "<table border=\"1\" class=\"dataframe\">\n",
       "  <thead>\n",
       "    <tr style=\"text-align: right;\">\n",
       "      <th></th>\n",
       "      <th>Reason_1</th>\n",
       "      <th>Reason_2</th>\n",
       "      <th>Reason_3</th>\n",
       "      <th>Reason_4</th>\n",
       "      <th>Month value</th>\n",
       "      <th>Day of the week</th>\n",
       "      <th>Transportation Expense</th>\n",
       "      <th>Distance to Work</th>\n",
       "      <th>Age</th>\n",
       "      <th>Daily Work Load Average</th>\n",
       "      <th>Body Mass Index</th>\n",
       "      <th>Education</th>\n",
       "      <th>Children</th>\n",
       "      <th>Pets</th>\n",
       "      <th>Absenteeism Time in Hours</th>\n",
       "      <th>Excessive Absenteeism</th>\n",
       "    </tr>\n",
       "  </thead>\n",
       "  <tbody>\n",
       "    <tr>\n",
       "      <th>0</th>\n",
       "      <td>0</td>\n",
       "      <td>0</td>\n",
       "      <td>0</td>\n",
       "      <td>1</td>\n",
       "      <td>7</td>\n",
       "      <td>1</td>\n",
       "      <td>289</td>\n",
       "      <td>36</td>\n",
       "      <td>33</td>\n",
       "      <td>239.554</td>\n",
       "      <td>30</td>\n",
       "      <td>0</td>\n",
       "      <td>2</td>\n",
       "      <td>1</td>\n",
       "      <td>4</td>\n",
       "      <td>1</td>\n",
       "    </tr>\n",
       "    <tr>\n",
       "      <th>1</th>\n",
       "      <td>0</td>\n",
       "      <td>0</td>\n",
       "      <td>0</td>\n",
       "      <td>0</td>\n",
       "      <td>7</td>\n",
       "      <td>1</td>\n",
       "      <td>118</td>\n",
       "      <td>13</td>\n",
       "      <td>50</td>\n",
       "      <td>239.554</td>\n",
       "      <td>31</td>\n",
       "      <td>0</td>\n",
       "      <td>1</td>\n",
       "      <td>0</td>\n",
       "      <td>0</td>\n",
       "      <td>0</td>\n",
       "    </tr>\n",
       "    <tr>\n",
       "      <th>2</th>\n",
       "      <td>0</td>\n",
       "      <td>0</td>\n",
       "      <td>0</td>\n",
       "      <td>1</td>\n",
       "      <td>7</td>\n",
       "      <td>2</td>\n",
       "      <td>179</td>\n",
       "      <td>51</td>\n",
       "      <td>38</td>\n",
       "      <td>239.554</td>\n",
       "      <td>31</td>\n",
       "      <td>0</td>\n",
       "      <td>0</td>\n",
       "      <td>0</td>\n",
       "      <td>2</td>\n",
       "      <td>0</td>\n",
       "    </tr>\n",
       "    <tr>\n",
       "      <th>3</th>\n",
       "      <td>1</td>\n",
       "      <td>0</td>\n",
       "      <td>0</td>\n",
       "      <td>0</td>\n",
       "      <td>7</td>\n",
       "      <td>3</td>\n",
       "      <td>279</td>\n",
       "      <td>5</td>\n",
       "      <td>39</td>\n",
       "      <td>239.554</td>\n",
       "      <td>24</td>\n",
       "      <td>0</td>\n",
       "      <td>2</td>\n",
       "      <td>0</td>\n",
       "      <td>4</td>\n",
       "      <td>1</td>\n",
       "    </tr>\n",
       "    <tr>\n",
       "      <th>4</th>\n",
       "      <td>0</td>\n",
       "      <td>0</td>\n",
       "      <td>0</td>\n",
       "      <td>1</td>\n",
       "      <td>7</td>\n",
       "      <td>3</td>\n",
       "      <td>289</td>\n",
       "      <td>36</td>\n",
       "      <td>33</td>\n",
       "      <td>239.554</td>\n",
       "      <td>30</td>\n",
       "      <td>0</td>\n",
       "      <td>2</td>\n",
       "      <td>1</td>\n",
       "      <td>2</td>\n",
       "      <td>0</td>\n",
       "    </tr>\n",
       "  </tbody>\n",
       "</table>\n",
       "</div>"
      ],
      "text/plain": [
       "   Reason_1  Reason_2  Reason_3  Reason_4  Month value  Day of the week  \\\n",
       "0         0         0         0         1            7                1   \n",
       "1         0         0         0         0            7                1   \n",
       "2         0         0         0         1            7                2   \n",
       "3         1         0         0         0            7                3   \n",
       "4         0         0         0         1            7                3   \n",
       "\n",
       "   Transportation Expense  Distance to Work  Age  Daily Work Load Average  \\\n",
       "0                     289                36   33                  239.554   \n",
       "1                     118                13   50                  239.554   \n",
       "2                     179                51   38                  239.554   \n",
       "3                     279                 5   39                  239.554   \n",
       "4                     289                36   33                  239.554   \n",
       "\n",
       "   Body Mass Index  Education  Children  Pets  Absenteeism Time in Hours  \\\n",
       "0               30          0         2     1                          4   \n",
       "1               31          0         1     0                          0   \n",
       "2               31          0         0     0                          2   \n",
       "3               24          0         2     0                          4   \n",
       "4               30          0         2     1                          2   \n",
       "\n",
       "   Excessive Absenteeism  \n",
       "0                      1  \n",
       "1                      0  \n",
       "2                      0  \n",
       "3                      1  \n",
       "4                      0  "
      ]
     },
     "execution_count": 6,
     "metadata": {},
     "output_type": "execute_result"
    }
   ],
   "source": [
    "data_preprocessed[\"Excessive Absenteeism\"] = targets\n",
    "data_preprocessed.head()"
   ]
  },
  {
   "cell_type": "code",
   "execution_count": 8,
   "id": "022c3968",
   "metadata": {},
   "outputs": [
    {
     "data": {
      "text/plain": [
       "0.45571428571428574"
      ]
     },
     "execution_count": 8,
     "metadata": {},
     "output_type": "execute_result"
    }
   ],
   "source": [
    "# Median is a good indicator because we could naturally balance the data: numbers of 0 and 1 are similar\n",
    "targets.sum()/targets.shape[0]"
   ]
  },
  {
   "cell_type": "code",
   "execution_count": 9,
   "id": "0adc4bd0",
   "metadata": {},
   "outputs": [
    {
     "data": {
      "text/plain": [
       "False"
      ]
     },
     "execution_count": 9,
     "metadata": {},
     "output_type": "execute_result"
    }
   ],
   "source": [
    "# We drop the targets, but also 3 other columns which we saw at the end that have no impact on the model\n",
    "data_with_targets = data_preprocessed.drop([\"Absenteeism Time in Hours\", \"Day of the week\", \n",
    "                                            \"Distance to Work\", \"Daily Work Load Average\"], axis=1)\n",
    "\n",
    "data_with_targets is data_preprocessed"
   ]
  },
  {
   "cell_type": "markdown",
   "id": "a81f8ae2",
   "metadata": {},
   "source": [
    "## Select inputs"
   ]
  },
  {
   "cell_type": "code",
   "execution_count": 10,
   "id": "5793ca0c",
   "metadata": {},
   "outputs": [
    {
     "data": {
      "text/plain": [
       "(700, 12)"
      ]
     },
     "execution_count": 10,
     "metadata": {},
     "output_type": "execute_result"
    }
   ],
   "source": [
    "data_with_targets.shape"
   ]
  },
  {
   "cell_type": "code",
   "execution_count": 11,
   "id": "7f21c6cf",
   "metadata": {},
   "outputs": [],
   "source": [
    "unscaled_inputs = data_with_targets.iloc[:,:-1]"
   ]
  },
  {
   "cell_type": "markdown",
   "id": "1a88792c",
   "metadata": {},
   "source": [
    "## Standardize the data"
   ]
  },
  {
   "cell_type": "code",
   "execution_count": 12,
   "id": "8a6e5431",
   "metadata": {},
   "outputs": [],
   "source": [
    "# This piece was given when we standardized dummies, but THEY SHOULD NOT BE STANDARDIZED!!! because this does not\n",
    "# make a good predictive power."
   ]
  },
  {
   "cell_type": "code",
   "execution_count": 13,
   "id": "efd09605",
   "metadata": {},
   "outputs": [],
   "source": [
    "# We need to specify which columns should be standardized and thus we make a class which will be choosing them\n",
    "from sklearn.base import BaseEstimator, TransformerMixin\n",
    "from sklearn.preprocessing import StandardScaler\n",
    "\n",
    "class CustomScaler(BaseEstimator, TransformerMixin):\n",
    "    \n",
    "    def __init__(self, columns):\n",
    "        self.scaler = StandardScaler()\n",
    "        self.columns = columns\n",
    "        \n",
    "    def fit(self, X, y=None):\n",
    "        self.scaler.fit(X[self.columns], y)\n",
    "        return self\n",
    "    \n",
    "    def transform(self, X, y=None):\n",
    "        init_col_order = X.columns\n",
    "        X_scaled = pd.DataFrame(self.scaler.transform(X[self.columns]), \n",
    "                                columns=self.columns\n",
    "                               )\n",
    "        X_not_scaled = X.loc[:, ~X.columns.isin(self.columns)]\n",
    "        return pd.concat([X_not_scaled, X_scaled], axis=1)[init_col_order]"
   ]
  },
  {
   "cell_type": "code",
   "execution_count": 14,
   "id": "71d73a4c",
   "metadata": {},
   "outputs": [
    {
     "data": {
      "text/plain": [
       "array(['Reason_1', 'Reason_2', 'Reason_3', 'Reason_4', 'Month value',\n",
       "       'Transportation Expense', 'Age', 'Body Mass Index', 'Education',\n",
       "       'Children', 'Pets'], dtype=object)"
      ]
     },
     "execution_count": 14,
     "metadata": {},
     "output_type": "execute_result"
    }
   ],
   "source": [
    "unscaled_inputs.columns.values"
   ]
  },
  {
   "cell_type": "code",
   "execution_count": 17,
   "id": "7bd9e0ce",
   "metadata": {},
   "outputs": [],
   "source": [
    "# We choose all columns without dummies: reasons and education\n",
    "\n",
    "# columns_to_scale = ['Month value', 'Transportation Expense',\n",
    "                    #'Age', 'Body Mass Index', 'Children', 'Pets']\n",
    "    \n",
    "# A good way to define columns to scale is by first choosing columns to omit\n",
    "columns_to_omit = ['Reason_1', 'Reason_2', 'Reason_3', 'Reason_4', 'Education']\n",
    "\n",
    "columns_to_scale = [x for x in unscaled_inputs.columns.values if x not in columns_to_omit]"
   ]
  },
  {
   "cell_type": "code",
   "execution_count": 18,
   "id": "82401135",
   "metadata": {},
   "outputs": [],
   "source": [
    "absenteeism_scaler = CustomScaler(columns_to_scale)"
   ]
  },
  {
   "cell_type": "code",
   "execution_count": 19,
   "id": "546fc0af",
   "metadata": {},
   "outputs": [
    {
     "data": {
      "text/html": [
       "<div>\n",
       "<style scoped>\n",
       "    .dataframe tbody tr th:only-of-type {\n",
       "        vertical-align: middle;\n",
       "    }\n",
       "\n",
       "    .dataframe tbody tr th {\n",
       "        vertical-align: top;\n",
       "    }\n",
       "\n",
       "    .dataframe thead th {\n",
       "        text-align: right;\n",
       "    }\n",
       "</style>\n",
       "<table border=\"1\" class=\"dataframe\">\n",
       "  <thead>\n",
       "    <tr style=\"text-align: right;\">\n",
       "      <th></th>\n",
       "      <th>Reason_1</th>\n",
       "      <th>Reason_2</th>\n",
       "      <th>Reason_3</th>\n",
       "      <th>Reason_4</th>\n",
       "      <th>Month value</th>\n",
       "      <th>Transportation Expense</th>\n",
       "      <th>Age</th>\n",
       "      <th>Body Mass Index</th>\n",
       "      <th>Education</th>\n",
       "      <th>Children</th>\n",
       "      <th>Pets</th>\n",
       "    </tr>\n",
       "  </thead>\n",
       "  <tbody>\n",
       "    <tr>\n",
       "      <th>0</th>\n",
       "      <td>0</td>\n",
       "      <td>0</td>\n",
       "      <td>0</td>\n",
       "      <td>1</td>\n",
       "      <td>0.182726</td>\n",
       "      <td>1.005844</td>\n",
       "      <td>-0.536062</td>\n",
       "      <td>0.767431</td>\n",
       "      <td>0</td>\n",
       "      <td>0.880469</td>\n",
       "      <td>0.268487</td>\n",
       "    </tr>\n",
       "    <tr>\n",
       "      <th>1</th>\n",
       "      <td>0</td>\n",
       "      <td>0</td>\n",
       "      <td>0</td>\n",
       "      <td>0</td>\n",
       "      <td>0.182726</td>\n",
       "      <td>-1.574681</td>\n",
       "      <td>2.130803</td>\n",
       "      <td>1.002633</td>\n",
       "      <td>0</td>\n",
       "      <td>-0.019280</td>\n",
       "      <td>-0.589690</td>\n",
       "    </tr>\n",
       "    <tr>\n",
       "      <th>2</th>\n",
       "      <td>0</td>\n",
       "      <td>0</td>\n",
       "      <td>0</td>\n",
       "      <td>1</td>\n",
       "      <td>0.182726</td>\n",
       "      <td>-0.654143</td>\n",
       "      <td>0.248310</td>\n",
       "      <td>1.002633</td>\n",
       "      <td>0</td>\n",
       "      <td>-0.919030</td>\n",
       "      <td>-0.589690</td>\n",
       "    </tr>\n",
       "    <tr>\n",
       "      <th>3</th>\n",
       "      <td>1</td>\n",
       "      <td>0</td>\n",
       "      <td>0</td>\n",
       "      <td>0</td>\n",
       "      <td>0.182726</td>\n",
       "      <td>0.854936</td>\n",
       "      <td>0.405184</td>\n",
       "      <td>-0.643782</td>\n",
       "      <td>0</td>\n",
       "      <td>0.880469</td>\n",
       "      <td>-0.589690</td>\n",
       "    </tr>\n",
       "    <tr>\n",
       "      <th>4</th>\n",
       "      <td>0</td>\n",
       "      <td>0</td>\n",
       "      <td>0</td>\n",
       "      <td>1</td>\n",
       "      <td>0.182726</td>\n",
       "      <td>1.005844</td>\n",
       "      <td>-0.536062</td>\n",
       "      <td>0.767431</td>\n",
       "      <td>0</td>\n",
       "      <td>0.880469</td>\n",
       "      <td>0.268487</td>\n",
       "    </tr>\n",
       "    <tr>\n",
       "      <th>...</th>\n",
       "      <td>...</td>\n",
       "      <td>...</td>\n",
       "      <td>...</td>\n",
       "      <td>...</td>\n",
       "      <td>...</td>\n",
       "      <td>...</td>\n",
       "      <td>...</td>\n",
       "      <td>...</td>\n",
       "      <td>...</td>\n",
       "      <td>...</td>\n",
       "      <td>...</td>\n",
       "    </tr>\n",
       "    <tr>\n",
       "      <th>695</th>\n",
       "      <td>1</td>\n",
       "      <td>0</td>\n",
       "      <td>0</td>\n",
       "      <td>0</td>\n",
       "      <td>-0.388293</td>\n",
       "      <td>-0.654143</td>\n",
       "      <td>0.562059</td>\n",
       "      <td>-1.114186</td>\n",
       "      <td>1</td>\n",
       "      <td>0.880469</td>\n",
       "      <td>-0.589690</td>\n",
       "    </tr>\n",
       "    <tr>\n",
       "      <th>696</th>\n",
       "      <td>1</td>\n",
       "      <td>0</td>\n",
       "      <td>0</td>\n",
       "      <td>0</td>\n",
       "      <td>-0.388293</td>\n",
       "      <td>0.040034</td>\n",
       "      <td>-1.320435</td>\n",
       "      <td>-0.643782</td>\n",
       "      <td>0</td>\n",
       "      <td>-0.019280</td>\n",
       "      <td>1.126663</td>\n",
       "    </tr>\n",
       "    <tr>\n",
       "      <th>697</th>\n",
       "      <td>1</td>\n",
       "      <td>0</td>\n",
       "      <td>0</td>\n",
       "      <td>0</td>\n",
       "      <td>-0.388293</td>\n",
       "      <td>1.624567</td>\n",
       "      <td>-1.320435</td>\n",
       "      <td>-0.408580</td>\n",
       "      <td>1</td>\n",
       "      <td>-0.919030</td>\n",
       "      <td>-0.589690</td>\n",
       "    </tr>\n",
       "    <tr>\n",
       "      <th>698</th>\n",
       "      <td>0</td>\n",
       "      <td>0</td>\n",
       "      <td>0</td>\n",
       "      <td>1</td>\n",
       "      <td>-0.388293</td>\n",
       "      <td>0.190942</td>\n",
       "      <td>-0.692937</td>\n",
       "      <td>-0.408580</td>\n",
       "      <td>1</td>\n",
       "      <td>-0.919030</td>\n",
       "      <td>-0.589690</td>\n",
       "    </tr>\n",
       "    <tr>\n",
       "      <th>699</th>\n",
       "      <td>0</td>\n",
       "      <td>0</td>\n",
       "      <td>0</td>\n",
       "      <td>1</td>\n",
       "      <td>-0.388293</td>\n",
       "      <td>1.036026</td>\n",
       "      <td>0.562059</td>\n",
       "      <td>-0.408580</td>\n",
       "      <td>0</td>\n",
       "      <td>-0.019280</td>\n",
       "      <td>0.268487</td>\n",
       "    </tr>\n",
       "  </tbody>\n",
       "</table>\n",
       "<p>700 rows × 11 columns</p>\n",
       "</div>"
      ],
      "text/plain": [
       "     Reason_1  Reason_2  Reason_3  Reason_4  Month value  \\\n",
       "0           0         0         0         1     0.182726   \n",
       "1           0         0         0         0     0.182726   \n",
       "2           0         0         0         1     0.182726   \n",
       "3           1         0         0         0     0.182726   \n",
       "4           0         0         0         1     0.182726   \n",
       "..        ...       ...       ...       ...          ...   \n",
       "695         1         0         0         0    -0.388293   \n",
       "696         1         0         0         0    -0.388293   \n",
       "697         1         0         0         0    -0.388293   \n",
       "698         0         0         0         1    -0.388293   \n",
       "699         0         0         0         1    -0.388293   \n",
       "\n",
       "     Transportation Expense       Age  Body Mass Index  Education  Children  \\\n",
       "0                  1.005844 -0.536062         0.767431          0  0.880469   \n",
       "1                 -1.574681  2.130803         1.002633          0 -0.019280   \n",
       "2                 -0.654143  0.248310         1.002633          0 -0.919030   \n",
       "3                  0.854936  0.405184        -0.643782          0  0.880469   \n",
       "4                  1.005844 -0.536062         0.767431          0  0.880469   \n",
       "..                      ...       ...              ...        ...       ...   \n",
       "695               -0.654143  0.562059        -1.114186          1  0.880469   \n",
       "696                0.040034 -1.320435        -0.643782          0 -0.019280   \n",
       "697                1.624567 -1.320435        -0.408580          1 -0.919030   \n",
       "698                0.190942 -0.692937        -0.408580          1 -0.919030   \n",
       "699                1.036026  0.562059        -0.408580          0 -0.019280   \n",
       "\n",
       "         Pets  \n",
       "0    0.268487  \n",
       "1   -0.589690  \n",
       "2   -0.589690  \n",
       "3   -0.589690  \n",
       "4    0.268487  \n",
       "..        ...  \n",
       "695 -0.589690  \n",
       "696  1.126663  \n",
       "697 -0.589690  \n",
       "698 -0.589690  \n",
       "699  0.268487  \n",
       "\n",
       "[700 rows x 11 columns]"
      ]
     },
     "execution_count": 19,
     "metadata": {},
     "output_type": "execute_result"
    }
   ],
   "source": [
    "# Use scaler to fit data\n",
    "absenteeism_scaler.fit(unscaled_inputs)\n",
    "\n",
    "# Use scaler to transform data\n",
    "scaled_inputs = absenteeism_scaler.transform(unscaled_inputs)\n",
    "\n",
    "scaled_inputs"
   ]
  },
  {
   "cell_type": "markdown",
   "id": "ce3920dc",
   "metadata": {},
   "source": [
    "## Split the data into train and test, and shuffle"
   ]
  },
  {
   "cell_type": "code",
   "execution_count": 21,
   "id": "2ddc1e70",
   "metadata": {},
   "outputs": [],
   "source": [
    "from sklearn.model_selection import train_test_split"
   ]
  },
  {
   "cell_type": "code",
   "execution_count": 22,
   "id": "466ee5c2",
   "metadata": {},
   "outputs": [],
   "source": [
    "x_train, x_test, y_train, y_test = train_test_split(scaled_inputs, targets, train_size=0.8, random_state=20)"
   ]
  },
  {
   "cell_type": "code",
   "execution_count": 23,
   "id": "43459f49",
   "metadata": {},
   "outputs": [
    {
     "name": "stdout",
     "output_type": "stream",
     "text": [
      "(560, 11) (140, 11) (560,) (140,)\n"
     ]
    }
   ],
   "source": [
    "print(x_train.shape, x_test.shape, y_train.shape, y_test.shape)"
   ]
  },
  {
   "cell_type": "markdown",
   "id": "f16c9679",
   "metadata": {},
   "source": [
    "## Logistic regression"
   ]
  },
  {
   "cell_type": "markdown",
   "id": "121350d6-3595-4149-b069-5afed1fbab87",
   "metadata": {},
   "source": [
    "We use here sklearn and not Statsmodels because sklearn is more stable for complex data."
   ]
  },
  {
   "cell_type": "code",
   "execution_count": 24,
   "id": "b22d674b",
   "metadata": {},
   "outputs": [],
   "source": [
    "from sklearn.linear_model import LogisticRegression\n",
    "from sklearn import metrics"
   ]
  },
  {
   "cell_type": "markdown",
   "id": "79f81859",
   "metadata": {},
   "source": [
    "## Training model"
   ]
  },
  {
   "cell_type": "code",
   "execution_count": 25,
   "id": "f1505ed5",
   "metadata": {},
   "outputs": [],
   "source": [
    "reg = LogisticRegression()"
   ]
  },
  {
   "cell_type": "code",
   "execution_count": 26,
   "id": "e89b8db2",
   "metadata": {},
   "outputs": [
    {
     "data": {
      "text/plain": [
       "LogisticRegression()"
      ]
     },
     "execution_count": 26,
     "metadata": {},
     "output_type": "execute_result"
    }
   ],
   "source": [
    "reg.fit(x_train, y_train)"
   ]
  },
  {
   "cell_type": "code",
   "execution_count": 27,
   "id": "d7358e30",
   "metadata": {},
   "outputs": [
    {
     "data": {
      "text/plain": [
       "0.7732142857142857"
      ]
     },
     "execution_count": 27,
     "metadata": {},
     "output_type": "execute_result"
    }
   ],
   "source": [
    "# To get a mean accuracy\n",
    "reg.score(x_train, y_train)"
   ]
  },
  {
   "cell_type": "markdown",
   "id": "9ac6dd42",
   "metadata": {},
   "source": [
    "## Manually check the accuracy"
   ]
  },
  {
   "cell_type": "code",
   "execution_count": 28,
   "id": "66fccba0",
   "metadata": {},
   "outputs": [
    {
     "data": {
      "text/plain": [
       "array([0, 1, 1, 1, 1, 0, 0, 1, 0, 1, 1, 1, 0, 1, 0, 0, 0, 0, 0, 1, 1, 0,\n",
       "       0, 0, 0, 0, 0, 1, 1, 0, 0, 1, 0, 1, 0, 0, 1, 0, 0, 0, 1, 0, 1, 1,\n",
       "       1, 0, 0, 0, 1, 1, 0, 1, 0, 0, 0, 1, 1, 0, 0, 0, 0, 0, 1, 0, 0, 0,\n",
       "       0, 0, 0, 0, 0, 1, 1, 0, 0, 0, 1, 0, 0, 1, 1, 1, 0, 0, 0, 1, 1, 0,\n",
       "       0, 1, 0, 0, 1, 0, 0, 0, 0, 1, 0, 1, 1, 1, 1, 0, 1, 1, 0, 0, 1, 0,\n",
       "       0, 1, 0, 1, 1, 0, 0, 0, 1, 1, 1, 1, 1, 0, 0, 1, 0, 1, 0, 0, 1, 0,\n",
       "       0, 0, 0, 0, 1, 0, 0, 0, 0, 0, 1, 1, 1, 0, 0, 1, 0, 1, 0, 0, 1, 0,\n",
       "       1, 1, 0, 1, 0, 0, 1, 0, 1, 0, 0, 1, 1, 0, 1, 1, 0, 0, 0, 0, 1, 0,\n",
       "       0, 0, 0, 0, 1, 0, 0, 1, 1, 0, 0, 1, 0, 0, 1, 1, 1, 0, 0, 0, 0, 1,\n",
       "       1, 0, 0, 1, 1, 1, 1, 0, 1, 0, 0, 0, 1, 1, 1, 0, 0, 0, 0, 0, 0, 1,\n",
       "       1, 0, 0, 0, 1, 0, 0, 1, 1, 0, 0, 1, 1, 0, 0, 1, 1, 0, 0, 0, 0, 1,\n",
       "       0, 0, 1, 0, 1, 1, 1, 0, 1, 0, 1, 0, 1, 0, 1, 1, 0, 1, 1, 1, 1, 1,\n",
       "       0, 0, 0, 0, 0, 0, 1, 1, 0, 0, 1, 0, 1, 1, 0, 1, 0, 0, 1, 0, 1, 0,\n",
       "       0, 0, 1, 0, 0, 0, 0, 1, 1, 1, 1, 1, 1, 1, 0, 0, 0, 0, 0, 1, 0, 0,\n",
       "       1, 0, 0, 0, 1, 0, 1, 0, 1, 1, 0, 0, 0, 0, 1, 1, 1, 1, 0, 0, 1, 1,\n",
       "       0, 0, 1, 0, 0, 1, 0, 0, 0, 0, 0, 0, 0, 0, 0, 1, 1, 1, 0, 0, 0, 1,\n",
       "       0, 0, 1, 0, 1, 1, 0, 0, 1, 0, 1, 1, 1, 0, 0, 0, 0, 1, 1, 1, 0, 0,\n",
       "       1, 1, 1, 1, 0, 0, 1, 1, 0, 1, 0, 1, 1, 1, 0, 1, 0, 1, 1, 0, 0, 0,\n",
       "       0, 0, 0, 0, 0, 1, 1, 0, 1, 1, 0, 1, 0, 0, 0, 1, 1, 0, 1, 1, 1, 0,\n",
       "       0, 0, 0, 1, 0, 0, 1, 0, 0, 1, 0, 0, 1, 0, 1, 1, 1, 0, 0, 1, 1, 0,\n",
       "       0, 0, 0, 0, 0, 0, 0, 0, 1, 1, 1, 1, 1, 0, 1, 1, 0, 0, 0, 0, 0, 0,\n",
       "       1, 1, 0, 0, 0, 0, 1, 0, 0, 0, 1, 0, 1, 1, 0, 0, 1, 0, 0, 1, 0, 0,\n",
       "       0, 0, 0, 0, 0, 1, 0, 0, 1, 0, 0, 0, 0, 1, 0, 0, 1, 0, 1, 0, 0, 0,\n",
       "       0, 1, 1, 1, 1, 0, 0, 0, 1, 1, 1, 1, 0, 0, 1, 1, 0, 0, 1, 0, 1, 1,\n",
       "       0, 1, 1, 0, 1, 1, 1, 0, 0, 0, 1, 1, 1, 0, 1, 1, 0, 1, 1, 0, 0, 0,\n",
       "       0, 1, 0, 1, 1, 1, 0, 0, 0, 0])"
      ]
     },
     "execution_count": 28,
     "metadata": {},
     "output_type": "execute_result"
    }
   ],
   "source": [
    "# Finding predicted outputs of the regression\n",
    "model_outputs = reg.predict(x_train)\n",
    "model_outputs"
   ]
  },
  {
   "cell_type": "code",
   "execution_count": 29,
   "id": "adaa1aee",
   "metadata": {},
   "outputs": [
    {
     "data": {
      "text/plain": [
       "array([0, 1, 1, 1, 1, 0, 0, 1, 0, 1, 0, 1, 1, 0, 0, 0, 0, 0, 1, 1, 0, 0,\n",
       "       1, 1, 0, 0, 0, 0, 1, 0, 0, 1, 0, 1, 0, 0, 0, 1, 1, 1, 1, 0, 1, 1,\n",
       "       1, 0, 0, 0, 1, 1, 1, 1, 0, 0, 0, 1, 1, 0, 0, 1, 0, 0, 1, 0, 0, 0,\n",
       "       0, 0, 0, 1, 0, 1, 1, 0, 0, 1, 1, 0, 0, 1, 1, 0, 0, 1, 0, 1, 0, 1,\n",
       "       1, 1, 0, 0, 1, 0, 0, 0, 0, 0, 0, 1, 1, 1, 1, 0, 1, 1, 0, 0, 1, 0,\n",
       "       0, 1, 1, 1, 1, 0, 0, 1, 1, 1, 1, 1, 0, 0, 0, 1, 0, 1, 0, 0, 1, 1,\n",
       "       0, 0, 0, 0, 0, 0, 0, 0, 0, 0, 1, 0, 1, 1, 0, 0, 0, 1, 0, 0, 0, 1,\n",
       "       0, 1, 0, 0, 0, 1, 1, 0, 1, 1, 0, 0, 1, 1, 1, 0, 0, 0, 0, 0, 1, 0,\n",
       "       0, 0, 0, 0, 1, 0, 0, 1, 1, 1, 0, 1, 0, 0, 0, 1, 1, 0, 0, 0, 0, 1,\n",
       "       1, 0, 0, 1, 1, 1, 0, 0, 0, 1, 0, 0, 1, 1, 1, 0, 0, 1, 0, 1, 0, 0,\n",
       "       1, 0, 0, 0, 0, 0, 1, 0, 1, 0, 0, 1, 1, 1, 1, 0, 1, 1, 0, 0, 0, 0,\n",
       "       0, 0, 1, 0, 1, 1, 1, 1, 1, 0, 1, 0, 1, 0, 1, 1, 1, 1, 1, 1, 0, 0,\n",
       "       0, 0, 0, 0, 0, 0, 0, 1, 0, 0, 1, 0, 1, 0, 1, 0, 0, 0, 1, 0, 0, 0,\n",
       "       1, 0, 1, 0, 0, 0, 0, 1, 0, 1, 0, 0, 1, 1, 0, 0, 0, 1, 0, 1, 0, 0,\n",
       "       0, 1, 0, 1, 1, 0, 1, 0, 1, 1, 0, 0, 1, 0, 1, 0, 0, 1, 0, 0, 1, 1,\n",
       "       1, 0, 0, 0, 0, 1, 1, 1, 0, 0, 0, 1, 0, 1, 0, 1, 1, 1, 0, 0, 0, 1,\n",
       "       0, 0, 1, 0, 1, 1, 0, 0, 0, 0, 1, 0, 1, 1, 0, 0, 0, 1, 1, 1, 0, 0,\n",
       "       1, 1, 1, 1, 0, 0, 1, 0, 0, 1, 0, 0, 1, 1, 1, 1, 1, 1, 1, 0, 1, 0,\n",
       "       0, 0, 0, 0, 0, 0, 1, 0, 1, 1, 0, 1, 0, 0, 0, 1, 1, 0, 0, 1, 1, 1,\n",
       "       0, 1, 0, 1, 0, 0, 1, 0, 1, 1, 0, 1, 1, 1, 1, 1, 1, 0, 0, 0, 0, 0,\n",
       "       0, 0, 0, 1, 0, 0, 0, 0, 0, 1, 0, 1, 1, 0, 0, 0, 0, 0, 0, 0, 1, 0,\n",
       "       1, 1, 0, 0, 0, 0, 1, 0, 1, 0, 1, 1, 0, 1, 0, 1, 1, 0, 0, 1, 0, 0,\n",
       "       1, 1, 0, 0, 1, 1, 0, 0, 1, 1, 0, 0, 0, 1, 0, 1, 1, 0, 1, 0, 0, 1,\n",
       "       0, 1, 0, 0, 1, 0, 0, 1, 1, 1, 1, 1, 0, 1, 1, 1, 1, 1, 0, 0, 1, 0,\n",
       "       0, 1, 1, 1, 1, 1, 1, 0, 0, 0, 1, 1, 1, 1, 1, 1, 0, 1, 1, 0, 0, 0,\n",
       "       0, 0, 0, 1, 1, 1, 1, 0, 1, 0])"
      ]
     },
     "execution_count": 29,
     "metadata": {},
     "output_type": "execute_result"
    }
   ],
   "source": [
    "y_train"
   ]
  },
  {
   "cell_type": "code",
   "execution_count": 30,
   "id": "f88b904c",
   "metadata": {},
   "outputs": [
    {
     "data": {
      "text/plain": [
       "0.7732142857142857"
      ]
     },
     "execution_count": 30,
     "metadata": {},
     "output_type": "execute_result"
    }
   ],
   "source": [
    "model_outputs == y_train\n",
    "np.sum(model_outputs == y_train)/y_train.shape[0]"
   ]
  },
  {
   "cell_type": "markdown",
   "id": "18c939cf",
   "metadata": {},
   "source": [
    "## Finding coefficients and intercept"
   ]
  },
  {
   "cell_type": "code",
   "execution_count": 28,
   "id": "a9aea3c2",
   "metadata": {},
   "outputs": [],
   "source": [
    "# We need a function for an external use (as for Tableu), and thus we need coefficients and weights:"
   ]
  },
  {
   "cell_type": "code",
   "execution_count": 31,
   "id": "5c28a1c7",
   "metadata": {},
   "outputs": [
    {
     "data": {
      "text/plain": [
       "array([-1.6474549])"
      ]
     },
     "execution_count": 31,
     "metadata": {},
     "output_type": "execute_result"
    }
   ],
   "source": [
    "reg.intercept_"
   ]
  },
  {
   "cell_type": "code",
   "execution_count": 32,
   "id": "bfc69b6e",
   "metadata": {},
   "outputs": [
    {
     "data": {
      "text/plain": [
       "array([[ 2.80019733,  0.95188356,  3.11555338,  0.83900082,  0.1589299 ,\n",
       "         0.60528415, -0.16989096,  0.27981088, -0.21053312,  0.34826214,\n",
       "        -0.27739602]])"
      ]
     },
     "execution_count": 32,
     "metadata": {},
     "output_type": "execute_result"
    }
   ],
   "source": [
    "reg.coef_"
   ]
  },
  {
   "cell_type": "code",
   "execution_count": 33,
   "id": "23678ba0",
   "metadata": {},
   "outputs": [],
   "source": [
    "# To get input names we refer to the unscaled_inputs as this is dataframe which has names.\n",
    "# Scaled_inputs are arrays, where names are not given.\n",
    "\n",
    "feature_name = unscaled_inputs.columns.values"
   ]
  },
  {
   "cell_type": "code",
   "execution_count": 34,
   "id": "f2926c8e",
   "metadata": {},
   "outputs": [
    {
     "data": {
      "text/html": [
       "<div>\n",
       "<style scoped>\n",
       "    .dataframe tbody tr th:only-of-type {\n",
       "        vertical-align: middle;\n",
       "    }\n",
       "\n",
       "    .dataframe tbody tr th {\n",
       "        vertical-align: top;\n",
       "    }\n",
       "\n",
       "    .dataframe thead th {\n",
       "        text-align: right;\n",
       "    }\n",
       "</style>\n",
       "<table border=\"1\" class=\"dataframe\">\n",
       "  <thead>\n",
       "    <tr style=\"text-align: right;\">\n",
       "      <th></th>\n",
       "      <th>Feature Name</th>\n",
       "      <th>Coefficients</th>\n",
       "    </tr>\n",
       "  </thead>\n",
       "  <tbody>\n",
       "    <tr>\n",
       "      <th>0</th>\n",
       "      <td>Reason_1</td>\n",
       "      <td>2.800197</td>\n",
       "    </tr>\n",
       "    <tr>\n",
       "      <th>1</th>\n",
       "      <td>Reason_2</td>\n",
       "      <td>0.951884</td>\n",
       "    </tr>\n",
       "    <tr>\n",
       "      <th>2</th>\n",
       "      <td>Reason_3</td>\n",
       "      <td>3.115553</td>\n",
       "    </tr>\n",
       "    <tr>\n",
       "      <th>3</th>\n",
       "      <td>Reason_4</td>\n",
       "      <td>0.839001</td>\n",
       "    </tr>\n",
       "    <tr>\n",
       "      <th>4</th>\n",
       "      <td>Month value</td>\n",
       "      <td>0.158930</td>\n",
       "    </tr>\n",
       "    <tr>\n",
       "      <th>5</th>\n",
       "      <td>Transportation Expense</td>\n",
       "      <td>0.605284</td>\n",
       "    </tr>\n",
       "    <tr>\n",
       "      <th>6</th>\n",
       "      <td>Age</td>\n",
       "      <td>-0.169891</td>\n",
       "    </tr>\n",
       "    <tr>\n",
       "      <th>7</th>\n",
       "      <td>Body Mass Index</td>\n",
       "      <td>0.279811</td>\n",
       "    </tr>\n",
       "    <tr>\n",
       "      <th>8</th>\n",
       "      <td>Education</td>\n",
       "      <td>-0.210533</td>\n",
       "    </tr>\n",
       "    <tr>\n",
       "      <th>9</th>\n",
       "      <td>Children</td>\n",
       "      <td>0.348262</td>\n",
       "    </tr>\n",
       "    <tr>\n",
       "      <th>10</th>\n",
       "      <td>Pets</td>\n",
       "      <td>-0.277396</td>\n",
       "    </tr>\n",
       "  </tbody>\n",
       "</table>\n",
       "</div>"
      ],
      "text/plain": [
       "              Feature Name  Coefficients\n",
       "0                 Reason_1      2.800197\n",
       "1                 Reason_2      0.951884\n",
       "2                 Reason_3      3.115553\n",
       "3                 Reason_4      0.839001\n",
       "4              Month value      0.158930\n",
       "5   Transportation Expense      0.605284\n",
       "6                      Age     -0.169891\n",
       "7          Body Mass Index      0.279811\n",
       "8                Education     -0.210533\n",
       "9                 Children      0.348262\n",
       "10                    Pets     -0.277396"
      ]
     },
     "execution_count": 34,
     "metadata": {},
     "output_type": "execute_result"
    }
   ],
   "source": [
    "summary_table = pd.DataFrame(columns=[\"Feature Name\"], data=feature_name)\n",
    "summary_table[\"Coefficients\"] = np.transpose(reg.coef_)\n",
    "summary_table"
   ]
  },
  {
   "cell_type": "code",
   "execution_count": 35,
   "id": "b8963462",
   "metadata": {},
   "outputs": [],
   "source": [
    "# Add an intercept in the first row\n",
    "summary_table.index = summary_table.index+1\n",
    "summary_table.loc[0] = [\"Intercept\", reg.intercept_[0]]\n",
    "summary_table = summary_table.sort_index()"
   ]
  },
  {
   "cell_type": "code",
   "execution_count": 36,
   "id": "b2f425b3",
   "metadata": {},
   "outputs": [
    {
     "data": {
      "text/html": [
       "<div>\n",
       "<style scoped>\n",
       "    .dataframe tbody tr th:only-of-type {\n",
       "        vertical-align: middle;\n",
       "    }\n",
       "\n",
       "    .dataframe tbody tr th {\n",
       "        vertical-align: top;\n",
       "    }\n",
       "\n",
       "    .dataframe thead th {\n",
       "        text-align: right;\n",
       "    }\n",
       "</style>\n",
       "<table border=\"1\" class=\"dataframe\">\n",
       "  <thead>\n",
       "    <tr style=\"text-align: right;\">\n",
       "      <th></th>\n",
       "      <th>Feature Name</th>\n",
       "      <th>Coefficients</th>\n",
       "    </tr>\n",
       "  </thead>\n",
       "  <tbody>\n",
       "    <tr>\n",
       "      <th>0</th>\n",
       "      <td>Intercept</td>\n",
       "      <td>-1.647455</td>\n",
       "    </tr>\n",
       "    <tr>\n",
       "      <th>1</th>\n",
       "      <td>Reason_1</td>\n",
       "      <td>2.800197</td>\n",
       "    </tr>\n",
       "    <tr>\n",
       "      <th>2</th>\n",
       "      <td>Reason_2</td>\n",
       "      <td>0.951884</td>\n",
       "    </tr>\n",
       "    <tr>\n",
       "      <th>3</th>\n",
       "      <td>Reason_3</td>\n",
       "      <td>3.115553</td>\n",
       "    </tr>\n",
       "    <tr>\n",
       "      <th>4</th>\n",
       "      <td>Reason_4</td>\n",
       "      <td>0.839001</td>\n",
       "    </tr>\n",
       "    <tr>\n",
       "      <th>5</th>\n",
       "      <td>Month value</td>\n",
       "      <td>0.158930</td>\n",
       "    </tr>\n",
       "    <tr>\n",
       "      <th>6</th>\n",
       "      <td>Transportation Expense</td>\n",
       "      <td>0.605284</td>\n",
       "    </tr>\n",
       "    <tr>\n",
       "      <th>7</th>\n",
       "      <td>Age</td>\n",
       "      <td>-0.169891</td>\n",
       "    </tr>\n",
       "    <tr>\n",
       "      <th>8</th>\n",
       "      <td>Body Mass Index</td>\n",
       "      <td>0.279811</td>\n",
       "    </tr>\n",
       "    <tr>\n",
       "      <th>9</th>\n",
       "      <td>Education</td>\n",
       "      <td>-0.210533</td>\n",
       "    </tr>\n",
       "    <tr>\n",
       "      <th>10</th>\n",
       "      <td>Children</td>\n",
       "      <td>0.348262</td>\n",
       "    </tr>\n",
       "    <tr>\n",
       "      <th>11</th>\n",
       "      <td>Pets</td>\n",
       "      <td>-0.277396</td>\n",
       "    </tr>\n",
       "  </tbody>\n",
       "</table>\n",
       "</div>"
      ],
      "text/plain": [
       "              Feature Name  Coefficients\n",
       "0                Intercept     -1.647455\n",
       "1                 Reason_1      2.800197\n",
       "2                 Reason_2      0.951884\n",
       "3                 Reason_3      3.115553\n",
       "4                 Reason_4      0.839001\n",
       "5              Month value      0.158930\n",
       "6   Transportation Expense      0.605284\n",
       "7                      Age     -0.169891\n",
       "8          Body Mass Index      0.279811\n",
       "9                Education     -0.210533\n",
       "10                Children      0.348262\n",
       "11                    Pets     -0.277396"
      ]
     },
     "execution_count": 36,
     "metadata": {},
     "output_type": "execute_result"
    }
   ],
   "source": [
    "summary_table\n",
    "\n",
    "# The equation is: log(odds) = intercept + Reason_1*2.07 + ......."
   ]
  },
  {
   "cell_type": "code",
   "execution_count": 37,
   "id": "988f08e7",
   "metadata": {},
   "outputs": [],
   "source": [
    "summary_table[\"Odds Ratio\"] = np.exp(summary_table[\"Coefficients\"])"
   ]
  },
  {
   "cell_type": "code",
   "execution_count": 38,
   "id": "856c7a1b",
   "metadata": {},
   "outputs": [
    {
     "data": {
      "text/html": [
       "<div>\n",
       "<style scoped>\n",
       "    .dataframe tbody tr th:only-of-type {\n",
       "        vertical-align: middle;\n",
       "    }\n",
       "\n",
       "    .dataframe tbody tr th {\n",
       "        vertical-align: top;\n",
       "    }\n",
       "\n",
       "    .dataframe thead th {\n",
       "        text-align: right;\n",
       "    }\n",
       "</style>\n",
       "<table border=\"1\" class=\"dataframe\">\n",
       "  <thead>\n",
       "    <tr style=\"text-align: right;\">\n",
       "      <th></th>\n",
       "      <th>Feature Name</th>\n",
       "      <th>Coefficients</th>\n",
       "      <th>Odds Ratio</th>\n",
       "    </tr>\n",
       "  </thead>\n",
       "  <tbody>\n",
       "    <tr>\n",
       "      <th>3</th>\n",
       "      <td>Reason_3</td>\n",
       "      <td>3.115553</td>\n",
       "      <td>22.545903</td>\n",
       "    </tr>\n",
       "    <tr>\n",
       "      <th>1</th>\n",
       "      <td>Reason_1</td>\n",
       "      <td>2.800197</td>\n",
       "      <td>16.447892</td>\n",
       "    </tr>\n",
       "    <tr>\n",
       "      <th>2</th>\n",
       "      <td>Reason_2</td>\n",
       "      <td>0.951884</td>\n",
       "      <td>2.590585</td>\n",
       "    </tr>\n",
       "    <tr>\n",
       "      <th>4</th>\n",
       "      <td>Reason_4</td>\n",
       "      <td>0.839001</td>\n",
       "      <td>2.314054</td>\n",
       "    </tr>\n",
       "    <tr>\n",
       "      <th>6</th>\n",
       "      <td>Transportation Expense</td>\n",
       "      <td>0.605284</td>\n",
       "      <td>1.831773</td>\n",
       "    </tr>\n",
       "    <tr>\n",
       "      <th>10</th>\n",
       "      <td>Children</td>\n",
       "      <td>0.348262</td>\n",
       "      <td>1.416604</td>\n",
       "    </tr>\n",
       "    <tr>\n",
       "      <th>8</th>\n",
       "      <td>Body Mass Index</td>\n",
       "      <td>0.279811</td>\n",
       "      <td>1.322880</td>\n",
       "    </tr>\n",
       "    <tr>\n",
       "      <th>5</th>\n",
       "      <td>Month value</td>\n",
       "      <td>0.158930</td>\n",
       "      <td>1.172256</td>\n",
       "    </tr>\n",
       "    <tr>\n",
       "      <th>7</th>\n",
       "      <td>Age</td>\n",
       "      <td>-0.169891</td>\n",
       "      <td>0.843757</td>\n",
       "    </tr>\n",
       "    <tr>\n",
       "      <th>9</th>\n",
       "      <td>Education</td>\n",
       "      <td>-0.210533</td>\n",
       "      <td>0.810152</td>\n",
       "    </tr>\n",
       "    <tr>\n",
       "      <th>11</th>\n",
       "      <td>Pets</td>\n",
       "      <td>-0.277396</td>\n",
       "      <td>0.757754</td>\n",
       "    </tr>\n",
       "    <tr>\n",
       "      <th>0</th>\n",
       "      <td>Intercept</td>\n",
       "      <td>-1.647455</td>\n",
       "      <td>0.192539</td>\n",
       "    </tr>\n",
       "  </tbody>\n",
       "</table>\n",
       "</div>"
      ],
      "text/plain": [
       "              Feature Name  Coefficients  Odds Ratio\n",
       "3                 Reason_3      3.115553   22.545903\n",
       "1                 Reason_1      2.800197   16.447892\n",
       "2                 Reason_2      0.951884    2.590585\n",
       "4                 Reason_4      0.839001    2.314054\n",
       "6   Transportation Expense      0.605284    1.831773\n",
       "10                Children      0.348262    1.416604\n",
       "8          Body Mass Index      0.279811    1.322880\n",
       "5              Month value      0.158930    1.172256\n",
       "7                      Age     -0.169891    0.843757\n",
       "9                Education     -0.210533    0.810152\n",
       "11                    Pets     -0.277396    0.757754\n",
       "0                Intercept     -1.647455    0.192539"
      ]
     },
     "execution_count": 38,
     "metadata": {},
     "output_type": "execute_result"
    }
   ],
   "source": [
    "summary_table.sort_values(\"Odds Ratio\", ascending=False)"
   ]
  },
  {
   "cell_type": "markdown",
   "id": "2e055794-0559-4619-905b-d65017c39a82",
   "metadata": {},
   "source": [
    "If the coefficient is around 0 or odds ratio is around 1 we do not see any change for the corresponding \n",
    "input/output. Thus, this feature is useless for the model and can be ignored or just dropped.\n",
    "\n",
    "If we see at this point that there are some useless coefficients we do backward elimination:\n",
    "we go to the beggining and drop the 3 columns: \"Daily Work Load Average\", \"Distance to Work\", \"Day of the week\",\n",
    "and then run the model again."
   ]
  },
  {
   "cell_type": "markdown",
   "id": "6a25da44",
   "metadata": {},
   "source": [
    "## Testing the model"
   ]
  },
  {
   "cell_type": "code",
   "execution_count": 40,
   "id": "6a4e63f0",
   "metadata": {},
   "outputs": [
    {
     "data": {
      "text/plain": [
       "0.75"
      ]
     },
     "execution_count": 40,
     "metadata": {},
     "output_type": "execute_result"
    }
   ],
   "source": [
    "reg.score(x_test, y_test)"
   ]
  },
  {
   "cell_type": "markdown",
   "id": "947261e3-5df8-465f-8f54-eb1292b1516b",
   "metadata": {},
   "source": [
    "If the test accuracy is 10-20% lower than the train accuracy it means that our model overfits data."
   ]
  },
  {
   "cell_type": "code",
   "execution_count": 41,
   "id": "b6e04828",
   "metadata": {},
   "outputs": [
    {
     "data": {
      "text/plain": [
       "array([[0.71340413, 0.28659587],\n",
       "       [0.58724228, 0.41275772],\n",
       "       [0.44020821, 0.55979179],\n",
       "       [0.78159464, 0.21840536],\n",
       "       [0.08410854, 0.91589146],\n",
       "       [0.33487603, 0.66512397],\n",
       "       [0.29984576, 0.70015424],\n",
       "       [0.13103971, 0.86896029],\n",
       "       [0.78625404, 0.21374596],\n",
       "       [0.74903632, 0.25096368],\n",
       "       [0.49397598, 0.50602402],\n",
       "       [0.22484913, 0.77515087],\n",
       "       [0.07129151, 0.92870849],\n",
       "       [0.73178133, 0.26821867],\n",
       "       [0.30934135, 0.69065865],\n",
       "       [0.5471671 , 0.4528329 ],\n",
       "       [0.55052275, 0.44947725],\n",
       "       [0.5392707 , 0.4607293 ],\n",
       "       [0.40201117, 0.59798883],\n",
       "       [0.05361575, 0.94638425],\n",
       "       [0.7003009 , 0.2996991 ],\n",
       "       [0.78159464, 0.21840536],\n",
       "       [0.42037128, 0.57962872],\n",
       "       [0.42037128, 0.57962872],\n",
       "       [0.24783565, 0.75216435],\n",
       "       [0.74566259, 0.25433741],\n",
       "       [0.51017274, 0.48982726],\n",
       "       [0.85690195, 0.14309805],\n",
       "       [0.20349733, 0.79650267],\n",
       "       [0.78159464, 0.21840536],\n",
       "       [0.63043442, 0.36956558],\n",
       "       [0.32093965, 0.67906035],\n",
       "       [0.31497433, 0.68502567],\n",
       "       [0.47131917, 0.52868083],\n",
       "       [0.78159464, 0.21840536],\n",
       "       [0.46493449, 0.53506551],\n",
       "       [0.77852919, 0.22147081],\n",
       "       [0.26307895, 0.73692105],\n",
       "       [0.59501956, 0.40498044],\n",
       "       [0.39494012, 0.60505988],\n",
       "       [0.78924152, 0.21075848],\n",
       "       [0.54775534, 0.45224466],\n",
       "       [0.76248708, 0.23751292],\n",
       "       [0.60166502, 0.39833498],\n",
       "       [0.17244553, 0.82755447],\n",
       "       [0.43202425, 0.56797575],\n",
       "       [0.30886675, 0.69113325],\n",
       "       [0.71340413, 0.28659587],\n",
       "       [0.78064733, 0.21935267],\n",
       "       [0.7966903 , 0.2033097 ],\n",
       "       [0.42371744, 0.57628256],\n",
       "       [0.6705336 , 0.3294664 ],\n",
       "       [0.33487603, 0.66512397],\n",
       "       [0.73050501, 0.26949499],\n",
       "       [0.16678032, 0.83321968],\n",
       "       [0.56508475, 0.43491525],\n",
       "       [0.11625388, 0.88374612],\n",
       "       [0.76872928, 0.23127072],\n",
       "       [0.66584142, 0.33415858],\n",
       "       [0.65567061, 0.34432939],\n",
       "       [0.30090655, 0.69909345],\n",
       "       [0.34505737, 0.65494263],\n",
       "       [0.70755059, 0.29244941],\n",
       "       [0.20799242, 0.79200758],\n",
       "       [0.79249724, 0.20750276],\n",
       "       [0.73159442, 0.26840558],\n",
       "       [0.91291434, 0.08708566],\n",
       "       [0.77852919, 0.22147081],\n",
       "       [0.26754583, 0.73245417],\n",
       "       [0.69469781, 0.30530219],\n",
       "       [0.77852919, 0.22147081],\n",
       "       [0.70985592, 0.29014408],\n",
       "       [0.09561809, 0.90438191],\n",
       "       [0.53938703, 0.46061297],\n",
       "       [0.39825313, 0.60174687],\n",
       "       [0.78159464, 0.21840536],\n",
       "       [0.22645293, 0.77354707],\n",
       "       [0.26837292, 0.73162708],\n",
       "       [0.25831165, 0.74168835],\n",
       "       [0.32855571, 0.67144429],\n",
       "       [0.75417184, 0.24582816],\n",
       "       [0.92387058, 0.07612942],\n",
       "       [0.76872928, 0.23127072],\n",
       "       [0.24741155, 0.75258845],\n",
       "       [0.56558369, 0.43441631],\n",
       "       [0.87775043, 0.12224957],\n",
       "       [0.29572951, 0.70427049],\n",
       "       [0.42037128, 0.57962872],\n",
       "       [0.75881641, 0.24118359],\n",
       "       [0.32093965, 0.67906035],\n",
       "       [0.82488593, 0.17511407],\n",
       "       [0.84950183, 0.15049817],\n",
       "       [0.77374985, 0.22625015],\n",
       "       [0.73159442, 0.26840558],\n",
       "       [0.74903632, 0.25096368],\n",
       "       [0.14944055, 0.85055945],\n",
       "       [0.70403751, 0.29596249],\n",
       "       [0.23713867, 0.76286133],\n",
       "       [0.75645005, 0.24354995],\n",
       "       [0.78203264, 0.21796736],\n",
       "       [0.37671823, 0.62328177],\n",
       "       [0.32093965, 0.67906035],\n",
       "       [0.30409309, 0.69590691],\n",
       "       [0.25542876, 0.74457124],\n",
       "       [0.55063861, 0.44936139],\n",
       "       [0.51677447, 0.48322553],\n",
       "       [0.72259112, 0.27740888],\n",
       "       [0.14944055, 0.85055945],\n",
       "       [0.2220274 , 0.7779726 ],\n",
       "       [0.85521156, 0.14478844],\n",
       "       [0.93001302, 0.06998698],\n",
       "       [0.09640551, 0.90359449],\n",
       "       [0.33736668, 0.66263332],\n",
       "       [0.66154998, 0.33845002],\n",
       "       [0.47623876, 0.52376124],\n",
       "       [0.43903262, 0.56096738],\n",
       "       [0.21378105, 0.78621895],\n",
       "       [0.17783793, 0.82216207],\n",
       "       [0.45811539, 0.54188461],\n",
       "       [0.6906917 , 0.3093083 ],\n",
       "       [0.74041049, 0.25958951],\n",
       "       [0.8393858 , 0.1606142 ],\n",
       "       [0.18777875, 0.81222125],\n",
       "       [0.54775534, 0.45224466],\n",
       "       [0.78159464, 0.21840536],\n",
       "       [0.64457904, 0.35542096],\n",
       "       [0.78924152, 0.21075848],\n",
       "       [0.89029009, 0.10970991],\n",
       "       [0.25937462, 0.74062538],\n",
       "       [0.7003009 , 0.2996991 ],\n",
       "       [0.38415023, 0.61584977],\n",
       "       [0.78924152, 0.21075848],\n",
       "       [0.70403751, 0.29596249],\n",
       "       [0.64457904, 0.35542096],\n",
       "       [0.73490357, 0.26509643],\n",
       "       [0.47623876, 0.52376124],\n",
       "       [0.5392707 , 0.4607293 ],\n",
       "       [0.68498978, 0.31501022],\n",
       "       [0.75645005, 0.24354995],\n",
       "       [0.53938703, 0.46061297]])"
      ]
     },
     "execution_count": 41,
     "metadata": {},
     "output_type": "execute_result"
    }
   ],
   "source": [
    "# Getting probability of our outputs\n",
    "predicted_proba = reg.predict_proba(x_test)\n",
    "predicted_proba\n",
    "\n",
    "# The first column shows the probability of our observation being 0, and the second column is the probability of\n",
    "# the observation being 1."
   ]
  },
  {
   "cell_type": "code",
   "execution_count": 42,
   "id": "bd989587",
   "metadata": {},
   "outputs": [
    {
     "data": {
      "text/plain": [
       "array([0.28659587, 0.41275772, 0.55979179, 0.21840536, 0.91589146,\n",
       "       0.66512397, 0.70015424, 0.86896029, 0.21374596, 0.25096368,\n",
       "       0.50602402, 0.77515087, 0.92870849, 0.26821867, 0.69065865,\n",
       "       0.4528329 , 0.44947725, 0.4607293 , 0.59798883, 0.94638425,\n",
       "       0.2996991 , 0.21840536, 0.57962872, 0.57962872, 0.75216435,\n",
       "       0.25433741, 0.48982726, 0.14309805, 0.79650267, 0.21840536,\n",
       "       0.36956558, 0.67906035, 0.68502567, 0.52868083, 0.21840536,\n",
       "       0.53506551, 0.22147081, 0.73692105, 0.40498044, 0.60505988,\n",
       "       0.21075848, 0.45224466, 0.23751292, 0.39833498, 0.82755447,\n",
       "       0.56797575, 0.69113325, 0.28659587, 0.21935267, 0.2033097 ,\n",
       "       0.57628256, 0.3294664 , 0.66512397, 0.26949499, 0.83321968,\n",
       "       0.43491525, 0.88374612, 0.23127072, 0.33415858, 0.34432939,\n",
       "       0.69909345, 0.65494263, 0.29244941, 0.79200758, 0.20750276,\n",
       "       0.26840558, 0.08708566, 0.22147081, 0.73245417, 0.30530219,\n",
       "       0.22147081, 0.29014408, 0.90438191, 0.46061297, 0.60174687,\n",
       "       0.21840536, 0.77354707, 0.73162708, 0.74168835, 0.67144429,\n",
       "       0.24582816, 0.07612942, 0.23127072, 0.75258845, 0.43441631,\n",
       "       0.12224957, 0.70427049, 0.57962872, 0.24118359, 0.67906035,\n",
       "       0.17511407, 0.15049817, 0.22625015, 0.26840558, 0.25096368,\n",
       "       0.85055945, 0.29596249, 0.76286133, 0.24354995, 0.21796736,\n",
       "       0.62328177, 0.67906035, 0.69590691, 0.74457124, 0.44936139,\n",
       "       0.48322553, 0.27740888, 0.85055945, 0.7779726 , 0.14478844,\n",
       "       0.06998698, 0.90359449, 0.66263332, 0.33845002, 0.52376124,\n",
       "       0.56096738, 0.78621895, 0.82216207, 0.54188461, 0.3093083 ,\n",
       "       0.25958951, 0.1606142 , 0.81222125, 0.45224466, 0.21840536,\n",
       "       0.35542096, 0.21075848, 0.10970991, 0.74062538, 0.2996991 ,\n",
       "       0.61584977, 0.21075848, 0.29596249, 0.35542096, 0.26509643,\n",
       "       0.52376124, 0.4607293 , 0.31501022, 0.24354995, 0.46061297])"
      ]
     },
     "execution_count": 42,
     "metadata": {},
     "output_type": "execute_result"
    }
   ],
   "source": [
    "# We are interested in extensive abseteeism, so the probability of getting one, so we extract this column\n",
    "predicted_proba[:,1]"
   ]
  },
  {
   "cell_type": "markdown",
   "id": "7149a262",
   "metadata": {},
   "source": [
    "## Save the model"
   ]
  },
  {
   "cell_type": "code",
   "execution_count": 43,
   "id": "3baf7920",
   "metadata": {},
   "outputs": [],
   "source": [
    "# Saving the model is saving the \"reg\" object as it contains all info that we need.\n",
    "\n",
    "# We will use \"pickle\" which converts Python object into a character string.\n",
    "import pickle\n",
    "\n",
    "with open(\"model\", \"wb\") as file:\n",
    "    pickle.dump(reg, file)"
   ]
  },
  {
   "cell_type": "code",
   "execution_count": 44,
   "id": "5387e8e8",
   "metadata": {},
   "outputs": [],
   "source": [
    "# We also need to save the scaler, as it can be used to train other data.\n",
    "with open(\"scaler\", \"wb\") as file_scaler:\n",
    "    pickle.dump(absenteeism_scaler, file_scaler)"
   ]
  },
  {
   "cell_type": "code",
   "execution_count": 45,
   "id": "a09fde66",
   "metadata": {},
   "outputs": [],
   "source": [
    "# To use this model in future for other data, the best way to do it is by creating a module which \n",
    "# consists of all ingredients shown here, but organized in classes. "
   ]
  },
  {
   "cell_type": "code",
   "execution_count": null,
   "id": "3b44c01c-4b1b-4f8b-8218-ea3a0d4bb8ae",
   "metadata": {},
   "outputs": [],
   "source": []
  }
 ],
 "metadata": {
  "kernelspec": {
   "display_name": "Python 3 (ipykernel)",
   "language": "python",
   "name": "python3"
  },
  "language_info": {
   "codemirror_mode": {
    "name": "ipython",
    "version": 3
   },
   "file_extension": ".py",
   "mimetype": "text/x-python",
   "name": "python",
   "nbconvert_exporter": "python",
   "pygments_lexer": "ipython3",
   "version": "3.9.13"
  }
 },
 "nbformat": 4,
 "nbformat_minor": 5
}
